{
 "cells": [
  {
   "cell_type": "markdown",
   "metadata": {},
   "source": [
    "https://towardsdatascience.com/recommendation-system-series-part-1-an-executive-guide-to-building-recommendation-system-608f83e2630a\n",
    "\n",
    "tabs open:     \n",
    "https://www.geeksforgeeks.org/recommendation-system-in-python/\n",
    "https://www.kaggle.com/code/gspmoreira/recommender-systems-in-python-101/notebook\n",
    "https://www.kaggle.com/code/prashant111/recommender-systems-in-python/notebook\n",
    "https://www.kaggle.com/code/ibtesama/getting-started-with-a-movie-recommendation-system\n",
    "https://www.kaggle.com/discussions/general/301531      \n",
    "https://www.kaggle.com/code/morrisb/how-to-recommend-anything-deep-recommender    \n",
    "\n",
    "\n",
    "useful!!!:\n",
    "https://www.geeksforgeeks.org/k-nearest-neighbours/\n",
    "https://www.geeksforgeeks.org/recommendation-system-in-python/\n",
    "https://github.com/jisilvia/kNN_Recommender_System/blob/main/kNN_Recommender_System.ipynb\n",
    "\n",
    "\n"
   ]
  },
  {
   "cell_type": "markdown",
   "metadata": {},
   "source": []
  }
 ],
 "metadata": {
  "language_info": {
   "name": "python"
  }
 },
 "nbformat": 4,
 "nbformat_minor": 2
}
